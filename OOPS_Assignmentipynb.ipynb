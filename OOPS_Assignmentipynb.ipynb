{
  "nbformat": 4,
  "nbformat_minor": 0,
  "metadata": {
    "colab": {
      "provenance": []
    },
    "kernelspec": {
      "name": "python3",
      "display_name": "Python 3"
    },
    "language_info": {
      "name": "python"
    }
  },
  "cells": [
    {
      "cell_type": "markdown",
      "source": [
        "#oops\n"
      ],
      "metadata": {
        "id": "Bfsx-j36yWyg"
      }
    },
    {
      "cell_type": "markdown",
      "source": [],
      "metadata": {
        "id": "62qpqynfy6Iv"
      }
    },
    {
      "cell_type": "markdown",
      "source": [
        "1. What is Object-Oriented Programming (OOP)?\n",
        "   - Object-Oriented Programming (OOP) is a programming paradigm based on the concept of \"objects\", which are instances of classes. It helps in organizing complex programs by bundling data (attributes) and the functions (methods) that operate on the data into single units.\n",
        "\n",
        "   Key Concepts of OOP:\n",
        "\n",
        "   1. Class - A blueprint for creating objects (e.g., Car, Person).\n",
        "   2. Object - An instance of a class (e.g., my_car = Car()).\n",
        "   3. Encapsulation - Hiding internal details and only exposing necessary parts.\n",
        "   4. Inheritance - One class can inherit properties and methods from another\n",
        "   5. Polymorphism - Same method name can perform different tasks depending on context.\n",
        "   6. Abstraction - Hiding complexity by showing only essential features.\n",
        "\n",
        "2. What is a class in OOP ?\n",
        "   - A class in OOP is a blueprint or template for creating objects. It defines a set of attributes (data) and methods (functions) that the created objects (also called instances) will have.\n",
        "\n",
        "Think of a class like a blueprint for a house. It describes what the house should have (rooms, doors, windows), but it's not an actual house. When you build a house using that blueprint, you're creating an object.\n",
        "\n",
        "    . class keyword is used to define a class.\n",
        "    . __init__ is a special method (constructor) that runs when an object is created.\n",
        "    . self refers to the current object instance.\n",
        "    . You can create multiple objects from the same class.\n",
        "\n",
        "3. What is an object in OOP?\n",
        "   - An object is a real-world instance of a class. It contains data (attributes) and behavior (methods) defined by its class.\n",
        "\n",
        "If a class is the blueprint, then an object is the actual product built from that blueprint.\n",
        "\n",
        "    . Class: Car\n",
        "\n",
        "    . Object: my_car = Car(\"Toyota\", \"Red\")\n",
        "\n",
        "    . Here, my_car is an object with actual properties like brand and color.\n",
        "\n",
        "4. What is the difference between abstraction and encapsulation ?\n",
        "   - Abstraction :-  Hiding complex implementation details and showing only essential features.\n",
        "\n",
        "   purpose- To reduce complexity and focus on what an object does.\n",
        "\n",
        "   How Its Done- \tUsing abstract classes or interfaces (e.g., in Java or C++). In Python, you can use abstract base classes (ABC).\n",
        "\n",
        "   Example-\tYou drive a car without knowing how the engine works (you just use the accelerator, brakes, etc.).\n",
        "\n",
        "   Access Control?- \tNot the main focus. It’s about hiding complexity.\n",
        "\n",
        "   encapsulation :-  Wrapping data and methods together and restricting direct access to some of the object's components.\n",
        "\n",
        "   purpose- To protect data from unauthorized access or modification.\n",
        "\n",
        "   How its Done- Using private/protected variables and providing getters/setters.\n",
        "\n",
        "   Example- The car hides its internal wiring and fuel system so you can't change them directly.\n",
        "\n",
        "   Access Control:- Yes, it uses access modifiers like private, protected, public (in other languages).\n",
        "\n",
        "5. What are dunder methods in Python?\n",
        "   - Dunder methods (short for \"double underscore\" methods) are special methods in Python that have double underscores before and after their names, like __init__, __str__, or __len__.\n",
        "\n",
        "They are also called magic methods because Python uses them internally to perform common operations on objects, such as creation, string conversion, addition, comparison, etc.\n",
        "\n",
        "    Dunder Method\tPurpose\n",
        "__init__\tConstructor – Initializes a new object\n",
        "__str__\tReturns a string representation of the object\n",
        "__len__\tReturns the length using len(obj)\n",
        "__add__\tDefines behavior for + operator\n",
        "__eq__\tDefines behavior for == operator\n",
        "__repr__\tOfficial string representation (for developers)\n",
        "\n",
        "6.  Explain the concept of inheritance in OOP.\n",
        "   - Inheritance in Object-Oriented Programming (OOP) is a concept where a child class (subclass) inherits attributes and methods from a parent class (superclass). It allows code reusability, reduces redundancy, and helps in building a hierarchy of classes.\n",
        "\n",
        "   Key Concepts:\n",
        "    . The child class can use the methods and attributes of the parent class.\n",
        "\n",
        "    . It can also override or extend the parent’s behavior.\n",
        "\n",
        "    . Promotes \"is-a\" relationship: e.g., a Dog is a Animal.\n",
        "\n",
        "\n",
        "   - Types of Inheritance (in Python):\n",
        "    . Single Inheritance - One child class inherits from one parent.\n",
        "\n",
        "    . Multiple Inheritance - A class inherits from multiple parent classes.\n",
        "\n",
        "    . Multilevel Inheritance - A class inherits from a child class which itself inherits from another class.\n",
        "\n",
        "    . Hierarchical Inheritance - Multiple child classes inherit from one parent.\n",
        "\n",
        "7.  What is polymorphism in OOP?\n",
        "    - Polymorphism lets you use the same method name for different types of objects, and each object responds in its own way.\n",
        "\n",
        "    Types of Polymorphism:\n",
        "      Compile-Time Polymorphism (also called Method Overloading – not directly supported in Python but available in languages like Java/C++)\n",
        "\n",
        "      Run-Time Polymorphism (also called Method Overriding – fully supported in Python)\n",
        "\n",
        "      Benefits of Polymorphism:\n",
        "        . Enhances flexibility and maintainability.\n",
        "\n",
        "        . Allows writing generic code that works with different types of objects.\n",
        "\n",
        "        . Simplifies code when dealing with multiple related classes.\n",
        "\n",
        "8. How is encapsulation achieved in Python?\n",
        "   - Encapsulation is achieved in Python by restricting direct access to an object’s internal data (attributes) and providing controlled access through methods like getters and setters.\n",
        "\n",
        "  Python doesn't have strict access modifiers like private, protected, or public (as in Java or C++), but it uses naming conventions to achieve encapsulation.\n",
        "\n",
        "  . syntax\n",
        "\n",
        "    . public_var      - Public – accessible from anywhere\n",
        "    . _protected_var  - Protected – meant for internal use\n",
        "    . __private_var   - Private – name mangled to prevent direct access\n",
        "\n",
        "9. What is a constructor in Python?\n",
        "   - A constructor in Python is a special method used to initialize a newly created object from a class. It sets the initial state (i.e., values of the attributes) of the object.\n",
        "\n",
        "  In Python, the constructor method is always named:\n",
        "\n",
        "  __init__()\n",
        "\n",
        "  Key points:-\n",
        "\n",
        "    . Automatically called when an object is created.\n",
        "\n",
        "    . Used to assign values to object properties.\n",
        "\n",
        "    . The first parameter is always self (refers to the current object).\n",
        "\n",
        "10. What are class and static methods in Python?\n",
        "    - In Python, class methods and static methods are special types of methods  that belong to the class rather than the instance (object). They are defined using decorators: @classmethod and @staticmethod.\n",
        "\n",
        "    . Class Method\n",
        "\n",
        "      . Declared with the @classmethod decorator.\n",
        "\n",
        "      . Takes cls as the first parameter (refers to the class itself).\n",
        "\n",
        "      . Can access or modify class-level data.\n",
        "\n",
        "      . Often used as factory methods (to create instances in different ways).\n",
        "\n",
        "    . Static Method\n",
        "\n",
        "      . Declared with the @staticmethod decorator.\n",
        "      . Takes no self or cls parameter.\n",
        "\n",
        "      . Does not access class or instance variables.\n",
        "\n",
        "     . Used for utility functions related to the class.\n",
        "\n",
        "11. What is method overloading in Python?\n",
        "    - Method overloading means defining multiple methods with the same name but different parameters (like different number or types of arguments). It's common in languages like Java and C++, but Python does not support true method overloading directly.\n",
        "\n",
        "    . In Python:\n",
        "      . If you define multiple methods with the same name, the last one will overwrite the previous ones.\n",
        "\n",
        "      . Instead, you simulate overloading using:\n",
        "\n",
        "      . Default arguments\n",
        "\n",
        "      . Variable-length arguments (*args, **kwargs)\n",
        "\n",
        "12. What is method overriding in OOP?\n",
        "    - Method overriding is an OOP feature where a child class provides its own  implementation of a method that is already defined in the parent class.\n",
        "This allows the child class to modify or extend the behavior of the inherited method.\n",
        "\n",
        "   .  Key Points:\n",
        "      . Method name and parameters must be same as in the parent class.\n",
        "\n",
        "      . Happens in inheritance.\n",
        "\n",
        "      . Allows for run-time polymorphism (object decides which method to use at runtime).\n",
        "\n",
        "  . Why Use Method Overriding?\n",
        "      . To customize behavior for the child class.\n",
        "\n",
        "      . To follow the \"same interface, different behavior\" principle.\n",
        "\n",
        "      . Useful in polymorphism when multiple subclasses implement the same method differently.\n",
        "\n",
        "13. What is a property decorator in Python?\n",
        "    - The @property decorator in Python is used to define a method as a  \n",
        "     getter\", allowing you to access it like an attribute, without using parentheses.\n",
        "\n",
        "      . Encapsulate class attributes\n",
        "\n",
        "      . Allow controlled access to private variables\n",
        "\n",
        "      . Provide read-only properties\n",
        "\n",
        "   . Why Use @property?\n",
        "      . Keeps your interface clean and simple.\n",
        "\n",
        "      . Allows you to change internal logic later without changing external code.\n",
        "\n",
        "      . Combines method flexibility with attribute-like syntax.\n",
        "\n",
        "\n",
        "14. Why is polymorphism important in OOP?\n",
        "    - Polymorphism is important in Object-Oriented Programming (OOP) because it allows objects of different classes to be used interchangeably, as long as they share a common interface (i.e., methods with the same name). This leads to flexibility, extensibility, and cleaner code.\n",
        "\n",
        "    .Benefits of Polymorphism:\n",
        "      1. Code Reusability\n",
        "\n",
        "        . You can write a single function that works with multiple types of objects.\n",
        "\n",
        "        . Example: A draw() function that works for Circle, Rectangle, and Triangle.\n",
        "\n",
        "      2. Simplifies Code Maintenance\n",
        "\n",
        "          . Avoids writing repetitive logic for different object types.\n",
        "\n",
        "          . Reduces duplication and increases clarity.\n",
        "\n",
        "    3. Supports Extensibility\n",
        "\n",
        "        . You can add new classes without changing existing code.\n",
        "\n",
        "        . Ideal for large-scale and evolving applications.\n",
        "\n",
        "    4. Enables Dynamic Behavior (Run-Time Polymorphism)\n",
        "\n",
        "        . The method that gets executed is decided at runtime, based on the object's type.\n",
        "\n",
        "15. What is an abstract class in Python?\n",
        "    - An abstract class in Python is a class that cannot be instantiated directly and is used as a base class for other classes. It is used to define a common interface (structure) for all its subclasses.\n",
        "\n",
        "Python provides support for abstract classes using the abc module (Abstract Base Classes).\n",
        "\n",
        "      . Key Points:\n",
        "        . An abstract class can have:\n",
        "\n",
        "            . Abstract methods (no implementation)\n",
        "\n",
        "            . Concrete methods (with implementation)\n",
        "\n",
        "        . You must override abstract methods in a subclass.\n",
        "\n",
        "        . Use the @abstractmethod decorator to define an abstract method.\n",
        "      \n",
        "      . Why Use Abstract Classes?\n",
        "          . Enforce method structure across subclasses.\n",
        "\n",
        "          . Ensure all derived classes implement essential behavior.\n",
        "\n",
        "          . Improve code consistency and maintainability.\n",
        "\n",
        "16. What are the advantages of OOP?\n",
        "    - Object-Oriented Programming (OOP) brings several key advantages to software design and development. These advantages help improve the maintainability, scalability, and organization of your code, making it more reusable and easier to extend.\n",
        "\n",
        "      . Key Advantages of OOP:\n",
        "\n",
        "        1. Modularity (Encapsulation)\n",
        "\n",
        "          . Encapsulation allows you to hide implementation details and show only the necessary functionality.\n",
        "\n",
        "        . Code is organized into classes and objects, making it more modular and easier to manage.\n",
        "\n",
        "      2. Code Reusability (Inheritance)\n",
        "          . With inheritance, a subclass can reuse code from a parent class, which reduces redundancy.\n",
        "\n",
        "          . It makes it easier to extend functionality by adding new features without modifying existing code.\n",
        "\n",
        "      3. Flexibility and Maintainability (Polymorphism)\n",
        "\n",
        "          . Polymorphism allows you to write generic code that works with multiple object types, leading to greater flexibility.\n",
        "\n",
        "          . It makes code more maintainable because changes in the parent class automatically affect subclasses, and new classes can be added easily.\n",
        "\n",
        "      4. Scalability\n",
        "\n",
        "          . OOP allows you to scale your application more easily. As the project grows, you can add new classes, modify existing ones, or extend features without disrupting the entire system.\n",
        "\n",
        "     5. Improved Collaboration\n",
        "\n",
        "        . OOP allows different teams to work on different objects or classes independently, which leads to better team collaboration and faster development.\n",
        "\n",
        "    6. Data Security (Encapsulation)\n",
        "\n",
        "        . With encapsulation, data is protected and only accessible through methods (getters/setters), preventing unauthorized access and modification of data.\n",
        "\n",
        "   7. Clear Structure and Organization\n",
        "\n",
        "      . OOP helps organize code into logical, well-defined objects, making it easier to understand and manage.\n",
        "\n",
        "      . It follows a real-world model, making it easier to design systems that are close to real-world scenarios.\n",
        "\n",
        "17. What is the difference between a class variable and an instance variable?\n",
        "    - In Python (and other OOP languages), class variables and instance variables are both used to store data in classes, but they differ in scope and usage.\n",
        "\n",
        "    . Class Variable:\n",
        "        . Shared across all instances of the class.\n",
        "        . Defined outside of any instance method, usually at the top of the class.\n",
        "        . Changing the value affects all objects of the class.\n",
        "\n",
        "   . Instance Variable:\n",
        "      . Unique for each object (instance) of the class.\n",
        "      . Defined inside the __init__() method using self.\n",
        "      . Changing the value affects only that specific object.\n",
        "\n",
        "18. What is multiple inheritance in Python?\n",
        "    - Multiple inheritance is a feature in Python where a class can inherit from more than one parent class. This means the child class gets access to the attributes and methods of all the parent classes.\n",
        "\n",
        "19. Explain the purpose of ‘’__str__’ and ‘__repr__’ ‘ methods in PythonH.\n",
        "    - In Python, __str__() and __repr__() are special methods (dunder methods) used to control how objects are represented as strings. They serve different but related purposes.\n",
        "\n",
        "      . __str__() -> For Readable Output\n",
        "      . Called by the str() function or print() statement.\n",
        "      . Returns a user-friendly and readable string.\n",
        "      . Meant for end users.\n",
        "\n",
        "\n",
        "     . __repr__() -> For Developer-Oriented Output\n",
        "     . Called by the repr() function or in the Python shell.\n",
        "\n",
        "     . Returns an unambiguous string that ideally could recreate the object.\n",
        "\n",
        "     . Meant for developers and debugging.\n",
        "\n",
        "20. What is the significance of the ‘super()’ function in Python ?\n",
        "    - The super() function in Python is used to call a method from a parent or superclass. It is most commonly used inside class methods, especially __init__, to ensure that the parent class is properly initialized or to reuse methods from the superclass.\n",
        "\n",
        "      . Key Uses of super():\n",
        "        1. Call Parent Class Methods\n",
        "            . Allows you to call a method (like __init__) from the superclass without explicitly naming it.\n",
        "\n",
        "       2. Support Multiple Inheritance\n",
        "            . Works with Python’s Method Resolution Order (MRO) to determine the correct method to call in complex inheritance hierarchies.\n",
        "\n",
        "      3. Avoid Hardcoding Class Names\n",
        "          . Makes the code more maintainable and flexible when refactoring.\n",
        "\n",
        "21. H What is the significance of the __del__ method in Python?\n",
        "    - The __del__ method in Python is a destructor method that is called automatically when an object is about to be destroyed. It allows you to define custom cleanup behavior, such as closing files or releasing resources.\n",
        "\n",
        "22. What is the difference between @staticmethod and @classmethod in Python?\n",
        "    - In Python, both @staticmethod and @classmethod are used to define methods that do not operate on instance-level data, but they behave differently in terms of what they receive as their first argument.\n",
        "\n",
        "      . staticmethod:\n",
        "      . Doesn’t take self or cls as the first parameter.\n",
        "\n",
        "      . Behaves like a regular function, but belongs to the class's namespace.\n",
        "\n",
        "      . Cannot access or modify class or instance attributes.\n",
        "\n",
        "      . Used when the method logic is independent of class or instance.\n",
        "\n",
        "\n",
        "     . classmethod:\n",
        "     . Takes cls as the first argument.\n",
        "\n",
        "     . Can access or modify class-level data.\n",
        "\n",
        "     . Can be used to create alternative constructors or work with class state.\n",
        "\n",
        "\n",
        "23. How does polymorphism work in Python with inheritance ?\n",
        "    - Polymorphism in Python allows objects of different classes to be treated as if they were objects of the same superclass — especially when they share a common interface (i.e., method names). It’s a key feature of inheritance in object-oriented programming.\n",
        "\n",
        "    . Inheritance + Polymorphism:\n",
        "        . When a child class inherits a method from a parent class but overrides it with its own version, Python lets you use these different classes interchangeably.\n",
        "\n",
        "24. What is method chaining in Python OOP?\n",
        "    - Method chaining in Python is a technique where multiple methods are called in a single line, one after the other, on the same object. This is made possible when each method returns self (i.e., the current object).Each method performs some action and returns the object itself, allowing further method calls on the same object.\n",
        "\n",
        "25. What is the purpose of the __call__ method in Python?\n",
        "    - The __call__ method in Python allows an instance of a class to be called like a function. It makes your object \"callable\", meaning you can use parentheses () after the object name, just like you would with functions.\n",
        "\n",
        "      . Creating function-like objects\n",
        "\n",
        "      . Implementing caching, logging, or wrappers\n",
        "\n",
        "      . Building DSLs or fluent APIs\n",
        "\n",
        "          .  __init__\t     Initializes an object\n",
        "          .  __call__\tMakes the object behave like a function\n",
        "\n",
        "    \n",
        "\n",
        "\n",
        "\n",
        "\n",
        "\n",
        "\n",
        "\n",
        "\n",
        "\n",
        "\n",
        "\n",
        "\n"
      ],
      "metadata": {
        "id": "H4kqqleNy_ne"
      }
    },
    {
      "cell_type": "code",
      "execution_count": 2,
      "metadata": {
        "id": "1XFID5wGyLZk"
      },
      "outputs": [],
      "source": [
        "#1.What is Object-Oriented Programming (OOP)?\n",
        "class Animal:\n",
        "    def speak(self):\n",
        "        print(\"Animal speaks\")\n",
        "\n",
        "class Dog(Animal):\n",
        "    def speak(self):\n",
        "        print(\"Dog barks\")\n",
        "\n"
      ]
    },
    {
      "cell_type": "code",
      "source": [
        "a = Animal()\n",
        "a.speak()   # Output: Animal speaks\n",
        "\n",
        "d = Dog()\n",
        "d.speak()   # Output: Dog barks\n",
        "\n"
      ],
      "metadata": {
        "colab": {
          "base_uri": "https://localhost:8080/"
        },
        "id": "2pKbc5f11EK8",
        "outputId": "64425d8f-2054-41eb-846b-05d2d4e1c690"
      },
      "execution_count": 6,
      "outputs": [
        {
          "output_type": "stream",
          "name": "stdout",
          "text": [
            "Animal speaks\n",
            "Dog barks\n"
          ]
        }
      ]
    },
    {
      "cell_type": "code",
      "source": [
        "#2.What is a class in OOP ?\n",
        "class Person:\n",
        "    # Constructor method to initialize attributes\n",
        "    def __init__(self, name, age):\n",
        "        self.name = name  # attribute\n",
        "        self.age = age    # attribute\n",
        "\n",
        "    # Method (function inside a class)\n",
        "    def greet(self):\n",
        "        print(f\"Hello, my name is {self.name} and I am {self.age} years old.\")"
      ],
      "metadata": {
        "id": "p3FE8ZRo1d5s"
      },
      "execution_count": 7,
      "outputs": []
    },
    {
      "cell_type": "code",
      "source": [
        "p1 = Person(\"Alice\", 25)\n",
        "p1.greet()  # Output: Hello, my name is Alice and I am 25 years old."
      ],
      "metadata": {
        "colab": {
          "base_uri": "https://localhost:8080/"
        },
        "id": "kbF3k9Kx19cD",
        "outputId": "6de41fa3-de4f-42a2-b922-d6b662fee696"
      },
      "execution_count": 8,
      "outputs": [
        {
          "output_type": "stream",
          "name": "stdout",
          "text": [
            "Hello, my name is Alice and I am 25 years old.\n"
          ]
        }
      ]
    },
    {
      "cell_type": "code",
      "source": [
        "#3. What is an object in OOP?\n",
        "class Car:\n",
        "    def __init__(self, brand, color):\n",
        "        self.brand = brand\n",
        "        self.color = color\n",
        "\n",
        "    def drive(self):\n",
        "        print(f\"The {self.color} {self.brand} is driving.\")\n",
        "\n",
        "# Creating objects\n",
        "car1 = Car(\"Toyota\", \"Red\")\n",
        "car2 = Car(\"Honda\", \"Blue\")\n",
        "\n",
        "car1.drive()\n",
        "car2.drive()\n",
        "\n",
        "\n",
        ""
      ],
      "metadata": {
        "colab": {
          "base_uri": "https://localhost:8080/"
        },
        "id": "jUjNAz7L3MI6",
        "outputId": "f255c6de-b5f6-40d4-d3ec-83b56da37ffb"
      },
      "execution_count": 12,
      "outputs": [
        {
          "output_type": "stream",
          "name": "stdout",
          "text": [
            "The Red Toyota is driving.\n",
            "The Blue Honda is driving.\n"
          ]
        }
      ]
    },
    {
      "cell_type": "code",
      "source": [
        "#5.What are dunder methods in Python?\n",
        "class Book:\n",
        "    def __init__(self, title, pages):\n",
        "        self.title = title\n",
        "        self.pages = pages\n",
        "\n",
        "    def __str__(self):\n",
        "        return f\"{self.title} ({self.pages} pages)\"\n",
        "\n",
        "    def __len__(self):\n",
        "        return self.pages\n",
        "\n",
        "book = Book(\"Python Basics\", 350)\n"
      ],
      "metadata": {
        "id": "Lawjt3hX6mgP"
      },
      "execution_count": 13,
      "outputs": []
    },
    {
      "cell_type": "code",
      "source": [
        "print(book)\n",
        "print(len(book))"
      ],
      "metadata": {
        "colab": {
          "base_uri": "https://localhost:8080/"
        },
        "id": "PqIfJYIJ2Cfi",
        "outputId": "13f71f59-8888-4396-ad97-3c5ee1cc9e2d"
      },
      "execution_count": 14,
      "outputs": [
        {
          "output_type": "stream",
          "name": "stdout",
          "text": [
            "Python Basics (350 pages)\n",
            "350\n"
          ]
        }
      ]
    },
    {
      "cell_type": "code",
      "source": [
        "#6. Explain the concept of inheritance in OOP.\n",
        "class GrandFather:\n",
        "    def prop_grand_father(self):\n",
        "        print(\"I am your grand father, this is my property\")\n",
        "class Father(GrandFather):\n",
        "    def prop_father(self):\n",
        "        print(\"I am your father, I am having my and your grandfather's property\")\n",
        "class Son(Father):\n",
        "    def prop_son(self):\n",
        "        print(\"I am the King. I am having all the properties\")"
      ],
      "metadata": {
        "id": "RWvQDAWS8G_9"
      },
      "execution_count": 15,
      "outputs": []
    },
    {
      "cell_type": "code",
      "source": [
        "son = Son()\n",
        "son.prop_father()"
      ],
      "metadata": {
        "colab": {
          "base_uri": "https://localhost:8080/"
        },
        "id": "uS6uDV7f3fLw",
        "outputId": "c837a8be-d79e-4f7f-b319-affc032c1a42"
      },
      "execution_count": 16,
      "outputs": [
        {
          "output_type": "stream",
          "name": "stdout",
          "text": [
            "I am your father, I am having my and your grandfather's property\n"
          ]
        }
      ]
    },
    {
      "cell_type": "code",
      "source": [
        "son.prop_grand_father()"
      ],
      "metadata": {
        "colab": {
          "base_uri": "https://localhost:8080/"
        },
        "id": "HekIe5W08QY8",
        "outputId": "411cf691-96e9-4569-8a3d-4847de4bed88"
      },
      "execution_count": 17,
      "outputs": [
        {
          "output_type": "stream",
          "name": "stdout",
          "text": [
            "I am your grand father, this is my property\n"
          ]
        }
      ]
    },
    {
      "cell_type": "code",
      "source": [
        "son.prop_son()"
      ],
      "metadata": {
        "colab": {
          "base_uri": "https://localhost:8080/"
        },
        "id": "Vd9S7jUj8USb",
        "outputId": "76e87f86-3be0-4763-ce2d-e3020c459e37"
      },
      "execution_count": 18,
      "outputs": [
        {
          "output_type": "stream",
          "name": "stdout",
          "text": [
            "I am the King. I am having all the properties\n"
          ]
        }
      ]
    },
    {
      "cell_type": "code",
      "source": [
        "fath = Father()\n",
        "fath.prop_father()"
      ],
      "metadata": {
        "colab": {
          "base_uri": "https://localhost:8080/"
        },
        "id": "NSTgjdkl8aG0",
        "outputId": "a4d55023-91ac-4d3f-82b2-f4fd5ea7d48f"
      },
      "execution_count": 19,
      "outputs": [
        {
          "output_type": "stream",
          "name": "stdout",
          "text": [
            "I am your father, I am having my and your grandfather's property\n"
          ]
        }
      ]
    },
    {
      "cell_type": "code",
      "source": [
        "fath.prop_grand_father()"
      ],
      "metadata": {
        "colab": {
          "base_uri": "https://localhost:8080/"
        },
        "id": "YPHDCCTs8hoj",
        "outputId": "1e36d149-544a-488f-bb34-44f241f612df"
      },
      "execution_count": 20,
      "outputs": [
        {
          "output_type": "stream",
          "name": "stdout",
          "text": [
            "I am your grand father, this is my property\n"
          ]
        }
      ]
    },
    {
      "cell_type": "code",
      "source": [
        "gf = GrandFather()\n",
        "gf.prop_grand_father()"
      ],
      "metadata": {
        "colab": {
          "base_uri": "https://localhost:8080/"
        },
        "id": "13TaUZEI8miD",
        "outputId": "0a014cd8-166c-4b37-8bb4-49ead3c8146e"
      },
      "execution_count": 21,
      "outputs": [
        {
          "output_type": "stream",
          "name": "stdout",
          "text": [
            "I am your grand father, this is my property\n"
          ]
        }
      ]
    },
    {
      "cell_type": "code",
      "source": [
        "#9.What is a constructor in Python?\n",
        "class Person:\n",
        "    def __init__(self, name, age):  # Constructor\n",
        "        self.name = name\n",
        "        self.age = age\n",
        "\n",
        "    def show_info(self):\n",
        "        print(f\"Name: {self.name}, Age: {self.age}\")"
      ],
      "metadata": {
        "id": "zearWkq4_yep"
      },
      "execution_count": 22,
      "outputs": []
    },
    {
      "cell_type": "code",
      "source": [
        "p1 = Person(\"Alice\", 25)\n",
        "p1.show_info()"
      ],
      "metadata": {
        "colab": {
          "base_uri": "https://localhost:8080/"
        },
        "id": "LTLW-IHS8pxT",
        "outputId": "49dfad1c-199d-462d-c954-fa751aee6834"
      },
      "execution_count": 23,
      "outputs": [
        {
          "output_type": "stream",
          "name": "stdout",
          "text": [
            "Name: Alice, Age: 25\n"
          ]
        }
      ]
    },
    {
      "cell_type": "code",
      "source": [
        "#10. What are class and static methods in Python?\n",
        "#class method\n",
        "class Person:\n",
        "    count = 0  # class variable\n",
        "\n",
        "    def __init__(self, name):\n",
        "        self.name = name\n",
        "        Person.count += 1\n",
        "\n",
        "    @classmethod\n",
        "    def get_count(cls):\n",
        "        return cls.count"
      ],
      "metadata": {
        "id": "xUwBsUCJBTPh"
      },
      "execution_count": 24,
      "outputs": []
    },
    {
      "cell_type": "code",
      "source": [
        "print(Person.get_count())\n",
        "p1 = Person(\"Alice\")\n",
        "p2 = Person(\"Bob\")\n",
        "print(Person.get_count())"
      ],
      "metadata": {
        "colab": {
          "base_uri": "https://localhost:8080/"
        },
        "id": "X52ykiumACGI",
        "outputId": "fc26ebfd-5c8f-4ce5-b61a-1b4d9a4e54c1"
      },
      "execution_count": 25,
      "outputs": [
        {
          "output_type": "stream",
          "name": "stdout",
          "text": [
            "0\n",
            "2\n"
          ]
        }
      ]
    },
    {
      "cell_type": "code",
      "source": [
        "#static method\n",
        "class MathTools:\n",
        "    @staticmethod\n",
        "    def add(x, y):\n",
        "        return x + y\n",
        "\n",
        "print(MathTools.add(3, 5))"
      ],
      "metadata": {
        "colab": {
          "base_uri": "https://localhost:8080/"
        },
        "id": "HnzpyX0PBraG",
        "outputId": "0b531830-5cb0-44bb-9d07-78007fe84c6e"
      },
      "execution_count": 26,
      "outputs": [
        {
          "output_type": "stream",
          "name": "stdout",
          "text": [
            "8\n"
          ]
        }
      ]
    },
    {
      "cell_type": "code",
      "source": [
        "#11. What is method overloading in Python?\n",
        "class Greet:\n",
        "    def hello(self, name=None):\n",
        "        if name:\n",
        "            print(f\"Hello, {name}!\")\n",
        "        else:\n",
        "            print(\"Hello!\")\n",
        "\n",
        "g = Greet()\n",
        "g.hello()\n",
        "g.hello(\"Alice\")"
      ],
      "metadata": {
        "colab": {
          "base_uri": "https://localhost:8080/"
        },
        "id": "6i8iJkrFCsO3",
        "outputId": "2db8a2e5-3c49-48de-8136-9e4ac0f65642"
      },
      "execution_count": 27,
      "outputs": [
        {
          "output_type": "stream",
          "name": "stdout",
          "text": [
            "Hello!\n",
            "Hello, Alice!\n"
          ]
        }
      ]
    },
    {
      "cell_type": "code",
      "source": [
        "#12. What is method overriding in OOP?\n",
        "class Fruit:\n",
        "    def fruit_info(self):\n",
        "        print(\"Inside Parent class\")\n",
        "class Apple(Fruit):\n",
        "    def fruit_info(self):\n",
        "        print(\"Inside the child class (fruit info)\")\n",
        "    def apple_info(self):\n",
        "        print(\"Inside the child class\")"
      ],
      "metadata": {
        "id": "eE0Uptk2EFBu"
      },
      "execution_count": 28,
      "outputs": []
    },
    {
      "cell_type": "code",
      "source": [
        "obj = Apple()\n",
        "obj.fruit_info()"
      ],
      "metadata": {
        "colab": {
          "base_uri": "https://localhost:8080/"
        },
        "id": "zQCSGERKBpF-",
        "outputId": "00bc4d09-f448-4955-eac6-87fa5833d381"
      },
      "execution_count": 29,
      "outputs": [
        {
          "output_type": "stream",
          "name": "stdout",
          "text": [
            "Inside the child class (fruit info)\n"
          ]
        }
      ]
    },
    {
      "cell_type": "code",
      "source": [
        "#14.14. Why is polymorphism important in OOP?\n",
        "class Bird:\n",
        "    def make_sound(self):\n",
        "        print(\"Some bird sound\")\n",
        "\n",
        "class Sparrow(Bird):\n",
        "    def make_sound(self):\n",
        "        print(\"Chirp\")\n",
        "\n",
        "class Parrot(Bird):\n",
        "    def make_sound(self):\n",
        "        print(\"Squawk\")\n",
        "\n",
        "def bird_sound(bird):\n",
        "    bird.make_sound()"
      ],
      "metadata": {
        "id": "Y0KKJ6VEHAyB"
      },
      "execution_count": 30,
      "outputs": []
    },
    {
      "cell_type": "code",
      "source": [
        "bird_sound(Sparrow())\n",
        "bird_sound(Parrot())"
      ],
      "metadata": {
        "colab": {
          "base_uri": "https://localhost:8080/"
        },
        "id": "GqKAlS8bETpT",
        "outputId": "fcb20efc-ac4b-42d0-d850-f274bfa2ec5b"
      },
      "execution_count": 31,
      "outputs": [
        {
          "output_type": "stream",
          "name": "stdout",
          "text": [
            "Chirp\n",
            "Squawk\n"
          ]
        }
      ]
    },
    {
      "cell_type": "code",
      "source": [
        "#15. What is an abstract class in Python?\n",
        "from abc import ABC, abstractmethod\n",
        "\n",
        "class Animal(ABC):  # Abstract class\n",
        "    @abstractmethod\n",
        "    def sound(self):\n",
        "        pass  # No implementation\n",
        "\n",
        "class Dog(Animal):\n",
        "    def sound(self):\n",
        "        print(\"Bark\")\n",
        "\n",
        "class Cat(Animal):\n",
        "    def sound(self):\n",
        "        print(\"Meow\")"
      ],
      "metadata": {
        "id": "-GlCtMbuIXrp"
      },
      "execution_count": 32,
      "outputs": []
    },
    {
      "cell_type": "code",
      "source": [
        "d = Dog()\n",
        "d.sound()"
      ],
      "metadata": {
        "colab": {
          "base_uri": "https://localhost:8080/"
        },
        "id": "EoacJVCVHJpo",
        "outputId": "adf27b27-f634-45a5-d4ea-a4ab88929f65"
      },
      "execution_count": 33,
      "outputs": [
        {
          "output_type": "stream",
          "name": "stdout",
          "text": [
            "Bark\n"
          ]
        }
      ]
    },
    {
      "cell_type": "code",
      "source": [
        "#17. What is the difference between a class variable and an instance variable?\n",
        "class Student:\n",
        "    school_name = \"ABC School\"   # Class variable\n",
        "\n",
        "    def __init__(self, name):\n",
        "        self.name = name         # Instance variable\n",
        "\n",
        "s1 = Student(\"Alice\")\n",
        "s2 = Student(\"Bob\")\n",
        "\n",
        "print(s1.school_name)\n",
        "print(s2.school_name)\n",
        "\n",
        "s1.school_name = \"XYZ School\"   # Creates a new instance variable in s1\n",
        "\n",
        "print(s1.school_name)\n",
        "print(s2.school_name)\n",
        "print(Student.school_name)"
      ],
      "metadata": {
        "colab": {
          "base_uri": "https://localhost:8080/"
        },
        "id": "R2cw9r3xQmq2",
        "outputId": "60d05291-35ea-43cd-9eb3-6bcd8af8e5b7"
      },
      "execution_count": 35,
      "outputs": [
        {
          "output_type": "stream",
          "name": "stdout",
          "text": [
            "ABC School\n",
            "ABC School\n",
            "XYZ School\n",
            "ABC School\n",
            "ABC School\n"
          ]
        }
      ]
    },
    {
      "cell_type": "code",
      "source": [
        "#18. What is multiple inheritance in Python?\n",
        "class Father:\n",
        "    def skills(self):\n",
        "        print(\"Gardening, Carpentry\")\n",
        "\n",
        "class Mother:\n",
        "    def skills(self):\n",
        "        print(\"Cooking, Painting\")\n",
        "\n",
        "class Child(Father, Mother):  # Inheriting from both\n",
        "    def skills(self):\n",
        "        super().skills()\n",
        "        print(\"Coding\")\n",
        "\n",
        "c = Child()\n",
        "c.skills()"
      ],
      "metadata": {
        "colab": {
          "base_uri": "https://localhost:8080/"
        },
        "id": "8hvQq1NcRk97",
        "outputId": "0a0654e1-82c0-4711-a3ae-5fdf64e63be5"
      },
      "execution_count": 36,
      "outputs": [
        {
          "output_type": "stream",
          "name": "stdout",
          "text": [
            "Gardening, Carpentry\n",
            "Coding\n"
          ]
        }
      ]
    },
    {
      "cell_type": "code",
      "source": [
        "#19. Explain the purpose of ‘’__str__’ and ‘__repr__’ ‘ methods in PythonH.\n",
        "class Book:\n",
        "    def __init__(self, title, author):\n",
        "        self.title = title\n",
        "        self.author = author\n",
        "\n",
        "    def __str__(self):\n",
        "        return f\"'{self.title}' by {self.author}\"  # User-friendly\n",
        "\n",
        "    def __repr__(self):\n",
        "        return f\"Book('{self.title}', '{self.author}')\"  # Developer-friendly\n",
        "\n",
        "b = Book(\"1984\", \"George Orwell\")"
      ],
      "metadata": {
        "id": "aqgBlNm0TO-6"
      },
      "execution_count": 37,
      "outputs": []
    },
    {
      "cell_type": "code",
      "source": [
        "print(str(b))\n",
        "print(repr(b))"
      ],
      "metadata": {
        "colab": {
          "base_uri": "https://localhost:8080/"
        },
        "id": "jTGX_DO4If_X",
        "outputId": "f0597a20-4176-4ce1-c273-a7095b537993"
      },
      "execution_count": 38,
      "outputs": [
        {
          "output_type": "stream",
          "name": "stdout",
          "text": [
            "'1984' by George Orwell\n",
            "Book('1984', 'George Orwell')\n"
          ]
        }
      ]
    },
    {
      "cell_type": "code",
      "source": [
        "#20. What is the significance of the ‘super()’ function in Python ?\n",
        "class Animal:\n",
        "    def __init__(self, name):\n",
        "        self.name = name\n",
        "        print(f\"{name} is an animal\")\n",
        "\n",
        "class Dog(Animal):\n",
        "    def __init__(self, name):\n",
        "        super().__init__(name)  # Call parent class __init__\n",
        "        print(f\"{name} is a dog\")\n",
        "\n",
        "d = Dog(\"Buddy\")"
      ],
      "metadata": {
        "colab": {
          "base_uri": "https://localhost:8080/"
        },
        "id": "wlgcV-SyTZzY",
        "outputId": "6329bce6-ebf3-4e31-ce8d-64acebf7ba30"
      },
      "execution_count": 39,
      "outputs": [
        {
          "output_type": "stream",
          "name": "stdout",
          "text": [
            "Buddy is an animal\n",
            "Buddy is a dog\n"
          ]
        }
      ]
    },
    {
      "cell_type": "code",
      "source": [
        "#22. What is the difference between @staticmethod and @classmethod in Python?\n",
        "#class method\n",
        "class Person:\n",
        "    species = \"Human\"\n",
        "\n",
        "    def __init__(self, name):\n",
        "        self.name = name\n",
        "\n",
        "    @classmethod\n",
        "    def from_string(cls, data):\n",
        "        name = data.split(\"-\")[0]\n",
        "        return cls(name)\n",
        "\n",
        "p = Person.from_string(\"Alice-123\")\n",
        "print(p.name)\n",
        "print(Person.species)"
      ],
      "metadata": {
        "colab": {
          "base_uri": "https://localhost:8080/"
        },
        "id": "PhyznyreXVKn",
        "outputId": "d64e8f92-1381-495a-a947-12fe4ac08490"
      },
      "execution_count": 40,
      "outputs": [
        {
          "output_type": "stream",
          "name": "stdout",
          "text": [
            "Alice\n",
            "Human\n"
          ]
        }
      ]
    },
    {
      "cell_type": "code",
      "source": [
        "#static method\n",
        "class Math:\n",
        "    @staticmethod\n",
        "    def add(x, y):\n",
        "        return x + y\n",
        "\n",
        "print(Math.add(3, 5))"
      ],
      "metadata": {
        "colab": {
          "base_uri": "https://localhost:8080/"
        },
        "id": "Yry-2uN7Xx42",
        "outputId": "99a24a8b-49a2-4561-d52f-6527d3dbc53a"
      },
      "execution_count": 41,
      "outputs": [
        {
          "output_type": "stream",
          "name": "stdout",
          "text": [
            "8\n"
          ]
        }
      ]
    },
    {
      "cell_type": "code",
      "source": [
        "#23. How does polymorphism work in Python with inheritance ?\n",
        "class Animal:\n",
        "    def speak(self):\n",
        "        print(\"Animal speaks\")\n",
        "\n",
        "class Dog(Animal):\n",
        "    def speak(self):\n",
        "        print(\"Bark\")\n",
        "\n",
        "class Cat(Animal):\n",
        "    def speak(self):\n",
        "        print(\"Meow\")\n",
        "\n",
        "# Polymorphism in action\n",
        "def make_sound(animal):\n",
        "    animal.speak()"
      ],
      "metadata": {
        "id": "Pzkgr7VFdeTv"
      },
      "execution_count": 42,
      "outputs": []
    },
    {
      "cell_type": "code",
      "source": [
        "make_sound(Dog())\n",
        "make_sound(Cat())"
      ],
      "metadata": {
        "colab": {
          "base_uri": "https://localhost:8080/"
        },
        "id": "7MxnMcjyTW_A",
        "outputId": "7437cdc9-e7ac-4bde-b424-ae33c79388f5"
      },
      "execution_count": 43,
      "outputs": [
        {
          "output_type": "stream",
          "name": "stdout",
          "text": [
            "Bark\n",
            "Meow\n"
          ]
        }
      ]
    },
    {
      "cell_type": "code",
      "source": [
        "class Payment:\n",
        "    def pay(self):\n",
        "        pass\n",
        "\n",
        "class CreditCard(Payment):\n",
        "    def pay(self):\n",
        "        print(\"Paid with credit card\")\n",
        "\n",
        "class PayPal(Payment):\n",
        "    def pay(self):\n",
        "        print(\"Paid with PayPal\")\n",
        "\n",
        "def process_payment(payment: Payment):\n",
        "    payment.pay()"
      ],
      "metadata": {
        "id": "DmhfrVEHdpsM"
      },
      "execution_count": 44,
      "outputs": []
    },
    {
      "cell_type": "code",
      "source": [
        "process_payment(CreditCard())\n",
        "process_payment(PayPal())"
      ],
      "metadata": {
        "colab": {
          "base_uri": "https://localhost:8080/"
        },
        "id": "PCqQieN2d7bM",
        "outputId": "2f3499cd-456a-48b5-fec3-e581590ece99"
      },
      "execution_count": 45,
      "outputs": [
        {
          "output_type": "stream",
          "name": "stdout",
          "text": [
            "Paid with credit card\n",
            "Paid with PayPal\n"
          ]
        }
      ]
    },
    {
      "cell_type": "code",
      "source": [
        "24. What is method chaining in Python OOP?\n",
        "class Person:\n",
        "    def __init__(self, name):\n",
        "        self.name = name\n",
        "        self.age = None\n",
        "        self.city = None\n",
        "\n",
        "    def set_age(self, age):\n",
        "        self.age = age\n",
        "        return self  # Returning the object itself\n",
        "\n",
        "    def set_city(self, city):\n",
        "        self.city = city\n",
        "        return self\n",
        "\n",
        "    def show(self):\n",
        "        print(f\"{self.name}, Age: {self.age}, City: {self.city}\")\n",
        "        return self\n",
        "\n",
        "# Method chaining\n",
        "p = Person(\"Alice\")\n",
        "p.set_age(25).set_city(\"New York\").show()"
      ],
      "metadata": {
        "colab": {
          "base_uri": "https://localhost:8080/"
        },
        "id": "QCmzy1Pxe-z1",
        "outputId": "c9df9ad8-5045-43aa-949a-0d7ec22e9665"
      },
      "execution_count": 48,
      "outputs": [
        {
          "output_type": "stream",
          "name": "stdout",
          "text": [
            "Object `OOP` not found.\n",
            "Alice, Age: 25, City: New York\n"
          ]
        },
        {
          "output_type": "execute_result",
          "data": {
            "text/plain": [
              "<__main__.Person at 0x78fda1c3f350>"
            ]
          },
          "metadata": {},
          "execution_count": 48
        }
      ]
    },
    {
      "cell_type": "code",
      "source": [
        "#25. What is the purpose of the __call__ method in Python?\n",
        "class Greeter:\n",
        "    def __init__(self, name):\n",
        "        self.name = name\n",
        "\n",
        "    def __call__(self, greeting=\"Hello\"):\n",
        "        print(f\"{greeting}, {self.name}!\")\n",
        "\n",
        "g = Greeter(\"Alice\")"
      ],
      "metadata": {
        "id": "jIuPbzQKgffS"
      },
      "execution_count": 49,
      "outputs": []
    },
    {
      "cell_type": "code",
      "source": [
        "g()\n",
        "g(\"Welcome\")"
      ],
      "metadata": {
        "colab": {
          "base_uri": "https://localhost:8080/"
        },
        "id": "ODMFeOKWeD4T",
        "outputId": "40e204da-1d5e-46a3-b8a4-29d6857a715c"
      },
      "execution_count": 50,
      "outputs": [
        {
          "output_type": "stream",
          "name": "stdout",
          "text": [
            "Hello, Alice!\n",
            "Welcome, Alice!\n"
          ]
        }
      ]
    },
    {
      "cell_type": "code",
      "source": [
        "class Model:\n",
        "    def __call__(self, x):\n",
        "        return x * 2\n",
        "\n",
        "model = Model()\n",
        "print(model(5))"
      ],
      "metadata": {
        "colab": {
          "base_uri": "https://localhost:8080/"
        },
        "id": "GO7Zc6M5gpyp",
        "outputId": "d3d080c5-2c2c-4fa0-f605-831ab446aee8"
      },
      "execution_count": 51,
      "outputs": [
        {
          "output_type": "stream",
          "name": "stdout",
          "text": [
            "10\n"
          ]
        }
      ]
    },
    {
      "cell_type": "markdown",
      "source": [
        "1. Create a parent class Animal with a method speak() that prints a generic message. Create a child class Dog\n",
        "that overrides the speak() method to print \"Bark!\".?"
      ],
      "metadata": {
        "id": "8vu_5AwBa7ng"
      }
    },
    {
      "cell_type": "code",
      "source": [
        "class Animal:\n",
        "    def speak(self):\n",
        "        print(\"The animal makes a sound\")\n",
        "\n",
        "# Child class\n",
        "class Dog(Animal):\n",
        "    def speak(self):\n",
        "        print(\"Bark!\")"
      ],
      "metadata": {
        "id": "v1wQJVKRaton"
      },
      "execution_count": 1,
      "outputs": []
    },
    {
      "cell_type": "code",
      "source": [
        "a = Animal()\n",
        "a.speak()"
      ],
      "metadata": {
        "colab": {
          "base_uri": "https://localhost:8080/"
        },
        "id": "iUyJWkaUbT7Z",
        "outputId": "8c06d66c-7730-446d-bdbc-e099950bd75f"
      },
      "execution_count": 2,
      "outputs": [
        {
          "output_type": "stream",
          "name": "stdout",
          "text": [
            "The animal makes a sound\n"
          ]
        }
      ]
    },
    {
      "cell_type": "code",
      "source": [
        "d = Dog()\n",
        "d.speak()"
      ],
      "metadata": {
        "colab": {
          "base_uri": "https://localhost:8080/"
        },
        "id": "SsvStBABbdqv",
        "outputId": "87c91c55-01ac-4608-a0b1-5e0b42a30580"
      },
      "execution_count": 3,
      "outputs": [
        {
          "output_type": "stream",
          "name": "stdout",
          "text": [
            "Bark!\n"
          ]
        }
      ]
    },
    {
      "cell_type": "markdown",
      "source": [
        "2.  Write a program to create an abstract class Shape with a method area(). Derive classes Circle and Rectangle\n",
        "from it and implement the area() method in both."
      ],
      "metadata": {
        "id": "pdnXBEFZbf2x"
      }
    },
    {
      "cell_type": "code",
      "source": [
        "from abc import ABC, abstractmethod\n",
        "import math\n",
        "\n",
        "# Abstract class\n",
        "class Shape(ABC):\n",
        "    @abstractmethod\n",
        "    def area(self):\n",
        "        pass\n",
        "\n",
        "# Circle class\n",
        "class Circle(Shape):\n",
        "    def __init__(self, radius):\n",
        "        self.radius = radius\n",
        "\n",
        "    def area(self):\n",
        "        return math.pi * self.radius ** 2\n",
        "\n",
        "# Rectangle class\n",
        "class Rectangle(Shape):\n",
        "    def __init__(self, width, height):\n",
        "        self.width = width\n",
        "        self.height = height\n",
        "\n",
        "    def area(self):\n",
        "        return self.width * self.height\n",
        "\n",
        "# Testing the classes\n",
        "c = Circle(5)\n",
        "r = Rectangle(4, 6)\n",
        "\n",
        "print(\"Circle Area:\", c.area())\n",
        "print(\"Rectangle Area:\", r.area())\n"
      ],
      "metadata": {
        "colab": {
          "base_uri": "https://localhost:8080/"
        },
        "id": "GrDwQEhSbmaB",
        "outputId": "63bef730-3be7-432a-9804-217740684850"
      },
      "execution_count": 4,
      "outputs": [
        {
          "output_type": "stream",
          "name": "stdout",
          "text": [
            "Circle Area: 78.53981633974483\n",
            "Rectangle Area: 24\n"
          ]
        }
      ]
    },
    {
      "cell_type": "markdown",
      "source": [
        "3.  Implement a multi-level inheritance scenario where a class Vehicle has an attribute type. Derive a class Car\n",
        "and further derive a class ElectricCar that adds a battery attribute."
      ],
      "metadata": {
        "id": "yMoBk4uWb1h0"
      }
    },
    {
      "cell_type": "code",
      "source": [
        "# Base class\n",
        "class Vehicle:\n",
        "    def __init__(self, vehicle_type):\n",
        "        self.type = vehicle_type\n",
        "\n",
        "# First-level derived class\n",
        "class Car(Vehicle):\n",
        "    def __init__(self, vehicle_type, brand):\n",
        "        super().__init__(vehicle_type)\n",
        "        self.brand = brand\n",
        "\n",
        "# Second-level derived class\n",
        "class ElectricCar(Car):\n",
        "    def __init__(self, vehicle_type, brand, battery_capacity):\n",
        "        super().__init__(vehicle_type, brand)\n",
        "        self.battery = battery_capacity\n",
        "\n",
        "    def display_info(self):\n",
        "        print(f\"Type: {self.type}\")\n",
        "        print(f\"Brand: {self.brand}\")\n",
        "        print(f\"Battery: {self.battery} kWh\")\n",
        "\n",
        "# Testing the classes\n",
        "e_car = ElectricCar(\"Four-wheeler\", \"Tesla\", 75)\n",
        "e_car.display_info()\n"
      ],
      "metadata": {
        "colab": {
          "base_uri": "https://localhost:8080/"
        },
        "id": "nDz26t0JdNJe",
        "outputId": "7bb653b9-1ba4-4ef3-9377-ce176f7ab8b0"
      },
      "execution_count": 8,
      "outputs": [
        {
          "output_type": "stream",
          "name": "stdout",
          "text": [
            "Type: Four-wheeler\n",
            "Brand: Tesla\n",
            "Battery: 75 kWh\n"
          ]
        }
      ]
    },
    {
      "cell_type": "markdown",
      "source": [
        "4. Demonstrate polymorphism by creating a base class Bird with a method fly(). Create two derived classes\n",
        "Sparrow and Penguin that override the fly() method.\n"
      ],
      "metadata": {
        "id": "Mk_ZQxPUgyNq"
      }
    },
    {
      "cell_type": "code",
      "source": [
        "# Base class\n",
        "class Bird:\n",
        "    def fly(self):\n",
        "        print(\"Some birds can fly.\")\n",
        "\n",
        "# Derived class 1\n",
        "class Sparrow(Bird):\n",
        "    def fly(self):\n",
        "        print(\"Sparrow flies high in the sky.\")\n",
        "\n",
        "# Derived class 2\n",
        "class Penguin(Bird):\n",
        "    def fly(self):\n",
        "        print(\"Penguins cannot fly, they swim.\")\n",
        "\n",
        "# Function demonstrating polymorphism\n",
        "def bird_fly_test(bird):\n",
        "    bird.fly()\n",
        "\n",
        "# Testing with different bird types\n",
        "b1 = Sparrow()\n",
        "b2 = Penguin()\n",
        "\n",
        "bird_fly_test(b1)\n",
        "bird_fly_test(b2)\n"
      ],
      "metadata": {
        "colab": {
          "base_uri": "https://localhost:8080/"
        },
        "id": "q3jszAhzhE5K",
        "outputId": "b9e176da-d537-4c5e-b159-95430fe42730"
      },
      "execution_count": 10,
      "outputs": [
        {
          "output_type": "stream",
          "name": "stdout",
          "text": [
            "Sparrow flies high in the sky.\n",
            "Penguins cannot fly, they swim.\n"
          ]
        }
      ]
    },
    {
      "cell_type": "markdown",
      "source": [
        "5. Write a program to demonstrate encapsulation by creating a class BankAccount with private attributes\n",
        "balance and methods to deposit, withdraw, and check balance."
      ],
      "metadata": {
        "id": "Z2QUSxOhi63w"
      }
    },
    {
      "cell_type": "code",
      "source": [
        "class BankAccount:\n",
        "    def __init__(self, initial_balance=0):\n",
        "        self.__balance = initial_balance  # private attribute\n",
        "\n",
        "    def deposit(self, amount):\n",
        "        if amount > 0:\n",
        "            self.__balance += amount\n",
        "            print(f\"Deposited: ₹{amount}\")\n",
        "        else:\n",
        "            print(\"Deposit amount must be positive.\")\n",
        "\n",
        "    def withdraw(self, amount):\n",
        "        if 0 < amount <= self.__balance:\n",
        "            self.__balance -= amount\n",
        "            print(f\"Withdrawn: ₹{amount}\")\n",
        "        else:\n",
        "            print(\"Insufficient balance or invalid amount.\")\n",
        "\n",
        "    def check_balance(self):\n",
        "        print(f\"Current Balance: ₹{self.__balance}\")\n",
        "\n",
        "# Testing the BankAccount class\n",
        "account = BankAccount(1000)\n",
        "account.check_balance()\n",
        "account.deposit(500)\n",
        "account.withdraw(300)\n",
        "account.check_balance()\n",
        "\n",
        "# Trying to access private attribute directly (not recommended)\n",
        "# print(account.__balance)  # This will raise an AttributeError\n"
      ],
      "metadata": {
        "colab": {
          "base_uri": "https://localhost:8080/"
        },
        "id": "rphvvtFgjHrO",
        "outputId": "7febe37d-91ba-452a-e880-b6db78197bbf"
      },
      "execution_count": 11,
      "outputs": [
        {
          "output_type": "stream",
          "name": "stdout",
          "text": [
            "Current Balance: ₹1000\n",
            "Deposited: ₹500\n",
            "Withdrawn: ₹300\n",
            "Current Balance: ₹1200\n"
          ]
        }
      ]
    },
    {
      "cell_type": "markdown",
      "source": [
        "6. Demonstrate runtime polymorphism using a method play() in a base class Instrument. Derive classes Guitar\n",
        "and Piano that implement their own version of play()."
      ],
      "metadata": {
        "id": "BhASheFejRn2"
      }
    },
    {
      "cell_type": "code",
      "source": [
        "# Base class\n",
        "class Instrument:\n",
        "    def play(self):\n",
        "        print(\"Instrument is being played\")\n",
        "\n",
        "# Derived class 1\n",
        "class Guitar(Instrument):\n",
        "    def play(self):\n",
        "        print(\"Strumming the guitar strings\")\n",
        "\n",
        "# Derived class 2\n",
        "class Piano(Instrument):\n",
        "    def play(self):\n",
        "        print(\"Playing the piano keys\")\n",
        "\n",
        "# Function demonstrating runtime polymorphism\n",
        "def start_playing(instrument: Instrument):\n",
        "    instrument.play()\n",
        "\n",
        "# Testing with different instruments\n",
        "i1 = Guitar()\n",
        "i2 = Piano()\n",
        "\n",
        "start_playing(i1)\n",
        "start_playing(i2)\n"
      ],
      "metadata": {
        "colab": {
          "base_uri": "https://localhost:8080/"
        },
        "id": "3R1uRRcOjkEO",
        "outputId": "e13d30e8-2f72-4731-a162-fa8627f06677"
      },
      "execution_count": 12,
      "outputs": [
        {
          "output_type": "stream",
          "name": "stdout",
          "text": [
            "Strumming the guitar strings\n",
            "Playing the piano keys\n"
          ]
        }
      ]
    },
    {
      "cell_type": "markdown",
      "source": [
        "7.  Create a class MathOperations with a class method add_numbers() to add two numbers and a static\n",
        "method subtract_numbers() to subtract two numbers."
      ],
      "metadata": {
        "id": "gIkHmw1bjo5F"
      }
    },
    {
      "cell_type": "code",
      "source": [
        "class MathOperations:\n",
        "    @classmethod\n",
        "    def add_numbers(cls, a, b):\n",
        "        return a + b\n",
        "\n",
        "    @staticmethod\n",
        "    def subtract_numbers(a, b):\n",
        "        return a - b\n",
        "\n",
        "# Testing the methods\n",
        "print(\"Addition:\", MathOperations.add_numbers(10, 5))\n",
        "print(\"Subtraction:\", MathOperations.subtract_numbers(10, 5))"
      ],
      "metadata": {
        "colab": {
          "base_uri": "https://localhost:8080/"
        },
        "id": "y7pyRXPdjRL2",
        "outputId": "62a63f60-0c73-48a3-fba0-d55a134d437b"
      },
      "execution_count": 13,
      "outputs": [
        {
          "output_type": "stream",
          "name": "stdout",
          "text": [
            "Addition: 15\n",
            "Subtraction: 5\n"
          ]
        }
      ]
    },
    {
      "cell_type": "markdown",
      "source": [
        "8.  Implement a class Person with a class method to count the total number of persons created"
      ],
      "metadata": {
        "id": "8wN5jOFfj9p3"
      }
    },
    {
      "cell_type": "code",
      "source": [
        "class Person:\n",
        "    count = 0  # Class variable to track number of persons\n",
        "\n",
        "    def __init__(self, name):\n",
        "        self.name = name\n",
        "        Person.count += 1\n",
        "\n",
        "    @classmethod\n",
        "    def total_persons(cls):\n",
        "        return cls.count\n",
        "\n",
        "# Creating instances\n",
        "p1 = Person(\"Alice\")\n",
        "p2 = Person(\"Bob\")\n",
        "p3 = Person(\"Charlie\")\n",
        "\n",
        "# Getting total number of persons created\n",
        "print(\"Total persons created:\", Person.total_persons())\n"
      ],
      "metadata": {
        "colab": {
          "base_uri": "https://localhost:8080/"
        },
        "id": "d5MzpCe5i6lQ",
        "outputId": "58cb3e3f-71ea-46c4-f976-145a71a709f5"
      },
      "execution_count": 14,
      "outputs": [
        {
          "output_type": "stream",
          "name": "stdout",
          "text": [
            "Total persons created: 3\n"
          ]
        }
      ]
    },
    {
      "cell_type": "markdown",
      "source": [
        "9.  Write a class Fraction with attributes numerator and denominator. Override the str method to display the\n",
        "fraction as \"numerator/denominator\"."
      ],
      "metadata": {
        "id": "xJ_NqaHRkPTu"
      }
    },
    {
      "cell_type": "code",
      "source": [
        "class Fraction:\n",
        "    def __init__(self, numerator, denominator):\n",
        "        self.numerator = numerator\n",
        "        self.denominator = denominator\n",
        "\n",
        "    def __str__(self):\n",
        "        return f\"{self.numerator}/{self.denominator}\"\n",
        "\n",
        "# Testing the Fraction class\n",
        "f1 = Fraction(3, 4)\n",
        "f2 = Fraction(5, 8)\n",
        "\n",
        "print(f1)\n",
        "print(f2)\n"
      ],
      "metadata": {
        "colab": {
          "base_uri": "https://localhost:8080/"
        },
        "id": "NJlEYSNbkgCA",
        "outputId": "b7ba68d4-cd65-442e-db10-09dad4061819"
      },
      "execution_count": 15,
      "outputs": [
        {
          "output_type": "stream",
          "name": "stdout",
          "text": [
            "3/4\n",
            "5/8\n"
          ]
        }
      ]
    },
    {
      "cell_type": "code",
      "source": [
        "10. Demonstrate operator overloading by creating a class Vector and overriding the add method to add two\n",
        "vectors."
      ],
      "metadata": {
        "id": "GsXfFRShkmGd"
      },
      "execution_count": null,
      "outputs": []
    },
    {
      "cell_type": "code",
      "source": [
        "class Vector:\n",
        "    def __init__(self, x, y):\n",
        "        self.x = x\n",
        "        self.y = y\n",
        "\n",
        "    def __add__(self, other):\n",
        "        # Overloads the + operator\n",
        "        return Vector(self.x + other.x, self.y + other.y)\n",
        "\n",
        "    def __str__(self):\n",
        "        return f\"Vector({self.x}, {self.y})\"\n",
        "\n",
        "# Testing the Vector class\n",
        "v1 = Vector(2, 3)\n",
        "v2 = Vector(4, 5)\n",
        "v3 = v1 + v2  # This uses the __add__ method\n",
        "\n",
        "print(v1)\n",
        "print(v2)\n",
        "print(v3)\n"
      ],
      "metadata": {
        "colab": {
          "base_uri": "https://localhost:8080/"
        },
        "id": "0jpF9h1dk04m",
        "outputId": "7d730242-9038-4d75-c97a-a3576ccd996c"
      },
      "execution_count": 16,
      "outputs": [
        {
          "output_type": "stream",
          "name": "stdout",
          "text": [
            "Vector(2, 3)\n",
            "Vector(4, 5)\n",
            "Vector(6, 8)\n"
          ]
        }
      ]
    },
    {
      "cell_type": "markdown",
      "source": [
        "11. Create a class Person with attributes name and age. Add a method greet() that prints \"Hello, my name is\n",
        "{name} and I am {age} years old.\""
      ],
      "metadata": {
        "id": "Z6C_Uhdok6p8"
      }
    },
    {
      "cell_type": "code",
      "source": [
        "class Person:\n",
        "    def __init__(self, name, age):\n",
        "        self.name = name\n",
        "        self.age = age\n",
        "\n",
        "    def greet(self):\n",
        "        print(f\"Hello, my name is {self.name} and I am {self.age} years old.\")\n",
        "\n",
        "# Testing the Person class\n",
        "person1 = Person(\"Alice\", 30)\n",
        "person2 = Person(\"Bob\", 25)\n",
        "\n",
        "person1.greet()\n",
        "person2.greet()\n"
      ],
      "metadata": {
        "colab": {
          "base_uri": "https://localhost:8080/"
        },
        "id": "rUzBBrbTlDhG",
        "outputId": "a5eef7b7-7bce-4722-cb01-5278c5f02b14"
      },
      "execution_count": 17,
      "outputs": [
        {
          "output_type": "stream",
          "name": "stdout",
          "text": [
            "Hello, my name is Alice and I am 30 years old.\n",
            "Hello, my name is Bob and I am 25 years old.\n"
          ]
        }
      ]
    },
    {
      "cell_type": "markdown",
      "source": [
        "12. Implement a class Student with attributes name and grades. Create a method average_grade() to compute\n",
        "the average of the grades."
      ],
      "metadata": {
        "id": "ZRjXTGuklNEM"
      }
    },
    {
      "cell_type": "code",
      "source": [
        "class Student:\n",
        "    def __init__(self, name, grades):\n",
        "        self.name = name\n",
        "        self.grades = grades  # List of grades\n",
        "\n",
        "    def average_grade(self):\n",
        "        return sum(self.grades) / len(self.grades) if self.grades else 0\n",
        "\n",
        "# Testing the Student class\n",
        "student1 = Student(\"Alice\", [90, 85, 88, 92])\n",
        "student2 = Student(\"Bob\", [75, 80, 70])\n",
        "\n",
        "print(f\"{student1.name}'s average grade: {student1.average_grade()}\")\n",
        "print(f\"{student2.name}'s average grade: {student2.average_grade()}\")\n"
      ],
      "metadata": {
        "colab": {
          "base_uri": "https://localhost:8080/"
        },
        "id": "m4GdEp7vlm2G",
        "outputId": "98100751-7858-4c16-a24a-3a4b7feb72ae"
      },
      "execution_count": 19,
      "outputs": [
        {
          "output_type": "stream",
          "name": "stdout",
          "text": [
            "Alice's average grade: 88.75\n",
            "Bob's average grade: 75.0\n"
          ]
        }
      ]
    },
    {
      "cell_type": "markdown",
      "source": [
        "13. Create a class Rectangle with methods set_dimensions() to set the dimensions and area() to calculate the\n",
        "area."
      ],
      "metadata": {
        "id": "fonHQtLgnPN0"
      }
    },
    {
      "cell_type": "code",
      "source": [
        "class Rectangle:\n",
        "    def __init__(self):\n",
        "        self.length = 0\n",
        "        self.width = 0\n",
        "\n",
        "    def set_dimensions(self, length, width):\n",
        "        self.length = length\n",
        "        self.width = width\n",
        "\n",
        "    def area(self):\n",
        "        return self.length * self.width\n",
        "\n",
        "# Testing the Rectangle class\n",
        "rectangle = Rectangle()\n",
        "rectangle.set_dimensions(5, 3)\n",
        "\n",
        "print(f\"Area of the rectangle: {rectangle.area()}\")\n"
      ],
      "metadata": {
        "colab": {
          "base_uri": "https://localhost:8080/"
        },
        "id": "Pkag_vZBnUb8",
        "outputId": "4f7e3cd3-3fe9-4b42-d9aa-514659414b15"
      },
      "execution_count": 20,
      "outputs": [
        {
          "output_type": "stream",
          "name": "stdout",
          "text": [
            "Area of the rectangle: 15\n"
          ]
        }
      ]
    },
    {
      "cell_type": "markdown",
      "source": [
        "14. Create a class Employee with a method calculate_salary() that computes the salary based on hours worked\n",
        "and hourly rate. Create a derived class Manager that adds a bonus to the salary."
      ],
      "metadata": {
        "id": "HT9pW86Hnhzh"
      }
    },
    {
      "cell_type": "code",
      "source": [
        "# Base class\n",
        "class Employee:\n",
        "    def __init__(self, name, hours_worked, hourly_rate):\n",
        "        self.name = name\n",
        "        self.hours_worked = hours_worked\n",
        "        self.hourly_rate = hourly_rate\n",
        "\n",
        "    def calculate_salary(self):\n",
        "        return self.hours_worked * self.hourly_rate\n",
        "\n",
        "# Derived class\n",
        "class Manager(Employee):\n",
        "    def __init__(self, name, hours_worked, hourly_rate, bonus):\n",
        "        super().__init__(name, hours_worked, hourly_rate)\n",
        "        self.bonus = bonus\n",
        "\n",
        "    def calculate_salary(self):\n",
        "        base_salary = super().calculate_salary()\n",
        "        return base_salary + self.bonus\n",
        "\n",
        "# Testing the classes\n",
        "emp = Employee(\"John\", 40, 20)\n",
        "manager = Manager(\"Alice\", 40, 30, 500)\n",
        "\n",
        "print(f\"Employee Salary: {emp.calculate_salary()}\")\n",
        "print(f\"Manager Salary: {manager.calculate_salary()}\")\n"
      ],
      "metadata": {
        "colab": {
          "base_uri": "https://localhost:8080/"
        },
        "id": "s0c_bo7hnrgk",
        "outputId": "7645ba27-ba59-4d66-cb2e-666359f5cef0"
      },
      "execution_count": 21,
      "outputs": [
        {
          "output_type": "stream",
          "name": "stdout",
          "text": [
            "Employee Salary: 800\n",
            "Manager Salary: 1700\n"
          ]
        }
      ]
    },
    {
      "cell_type": "markdown",
      "source": [
        "15. Create a class Product with attributes name, price, and quantity. Implement a method total_price() that\n",
        "calculates the total price of the product."
      ],
      "metadata": {
        "id": "ASttcWcInvji"
      }
    },
    {
      "cell_type": "code",
      "source": [
        "class Product:\n",
        "    def __init__(self, name, price, quantity):\n",
        "        self.name = name\n",
        "        self.price = price\n",
        "        self.quantity = quantity\n",
        "\n",
        "    def total_price(self):\n",
        "        return self.price * self.quantity\n",
        "\n",
        "# Testing the Product class\n",
        "product1 = Product(\"Laptop\", 50000, 2)\n",
        "product2 = Product(\"Phone\", 20000, 3)\n",
        "\n",
        "print(f\"Total price of {product1.name}: ₹{product1.total_price()}\")\n",
        "print(f\"Total price of {product2.name}: ₹{product2.total_price()}\")\n"
      ],
      "metadata": {
        "colab": {
          "base_uri": "https://localhost:8080/"
        },
        "id": "xQEnzpLuoA6L",
        "outputId": "c04e63c9-a8f8-461a-bccc-0f7adcdb9f45"
      },
      "execution_count": 22,
      "outputs": [
        {
          "output_type": "stream",
          "name": "stdout",
          "text": [
            "Total price of Laptop: ₹100000\n",
            "Total price of Phone: ₹60000\n"
          ]
        }
      ]
    },
    {
      "cell_type": "markdown",
      "source": [
        "16. Create a class Animal with an abstract method sound(). Create two derived classes Cow and Sheep that\n",
        "implement the sound() method."
      ],
      "metadata": {
        "id": "SuUvhciioE6S"
      }
    },
    {
      "cell_type": "code",
      "source": [
        "from abc import ABC, abstractmethod\n",
        "\n",
        "# Abstract base class\n",
        "class Animal(ABC):\n",
        "    @abstractmethod\n",
        "    def sound(self):\n",
        "        pass\n",
        "\n",
        "# Derived class Cow\n",
        "class Cow(Animal):\n",
        "    def sound(self):\n",
        "        print(\"Moo!\")\n",
        "\n",
        "# Derived class Sheep\n",
        "class Sheep(Animal):\n",
        "    def sound(self):\n",
        "        print(\"Baa!\")\n",
        "\n",
        "# Testing the classes\n",
        "cow = Cow()\n",
        "sheep = Sheep()\n",
        "\n",
        "cow.sound()\n",
        "sheep.sound()\n"
      ],
      "metadata": {
        "colab": {
          "base_uri": "https://localhost:8080/"
        },
        "id": "JHv5h4v0oOmU",
        "outputId": "fa114b41-6179-4071-f7fa-98b9eca01a73"
      },
      "execution_count": 23,
      "outputs": [
        {
          "output_type": "stream",
          "name": "stdout",
          "text": [
            "Moo!\n",
            "Baa!\n"
          ]
        }
      ]
    },
    {
      "cell_type": "markdown",
      "source": [
        "17. Create a class Book with attributes title, author, and year_published. Add a method get_book_info() that\n",
        "returns a formatted string with the book's details."
      ],
      "metadata": {
        "id": "mmpynVkOoTzQ"
      }
    },
    {
      "cell_type": "code",
      "source": [
        "class Book:\n",
        "    def __init__(self, title, author, year_published):\n",
        "        self.title = title\n",
        "        self.author = author\n",
        "        self.year_published = year_published\n",
        "\n",
        "    def get_book_info(self):\n",
        "        return f\"'{self.title}' by {self.author} (Published in {self.year_published})\"\n",
        "\n",
        "# Testing the Book class\n",
        "book1 = Book(\"To Kill a Mockingbird\", \"Harper Lee\", 1960)\n",
        "book2 = Book(\"1984\", \"George Orwell\", 1949)\n",
        "\n",
        "print(book1.get_book_info())\n",
        "print(book2.get_book_info())\n"
      ],
      "metadata": {
        "colab": {
          "base_uri": "https://localhost:8080/"
        },
        "id": "HZb1nehOoc_p",
        "outputId": "3da8d48c-565e-4438-e3a0-33e66b81ab7c"
      },
      "execution_count": 24,
      "outputs": [
        {
          "output_type": "stream",
          "name": "stdout",
          "text": [
            "'To Kill a Mockingbird' by Harper Lee (Published in 1960)\n",
            "'1984' by George Orwell (Published in 1949)\n"
          ]
        }
      ]
    },
    {
      "cell_type": "markdown",
      "source": [
        "18. Create a class House with attributes address and price. Create a derived class Mansion that adds an\n",
        "attribute number_of_rooms."
      ],
      "metadata": {
        "id": "IwYOZPCUom-Z"
      }
    },
    {
      "cell_type": "code",
      "source": [
        "# Base class\n",
        "class House:\n",
        "    def __init__(self, address, price):\n",
        "        self.address = address\n",
        "        self.price = price\n",
        "\n",
        "# Derived class\n",
        "class Mansion(House):\n",
        "    def __init__(self, address, price, number_of_rooms):\n",
        "        super().__init__(address, price)\n",
        "        self.number_of_rooms = number_of_rooms\n",
        "\n",
        "    def display_info(self):\n",
        "        return f\"Address: {self.address}, Price: ₹{self.price}, Rooms: {self.number_of_rooms}\"\n",
        "\n",
        "# Testing the classes\n",
        "mansion1 = Mansion(\"123 Luxury Lane\", 50000000, 10)\n",
        "print(mansion1.display_info())\n"
      ],
      "metadata": {
        "colab": {
          "base_uri": "https://localhost:8080/"
        },
        "id": "bHqr-IByowFD",
        "outputId": "dd235781-3ad3-444b-fbbe-d039137af3e8"
      },
      "execution_count": 25,
      "outputs": [
        {
          "output_type": "stream",
          "name": "stdout",
          "text": [
            "Address: 123 Luxury Lane, Price: ₹50000000, Rooms: 10\n"
          ]
        }
      ]
    },
    {
      "cell_type": "code",
      "source": [
        "\"\"\"\n",
        "This is answer\n",
        "\"\"\""
      ],
      "metadata": {
        "colab": {
          "base_uri": "https://localhost:8080/",
          "height": 35
        },
        "id": "RgD11r-YpW-Y",
        "outputId": "dcf894cf-eae2-4d19-e5d9-5653cb32f67f"
      },
      "execution_count": 26,
      "outputs": [
        {
          "output_type": "execute_result",
          "data": {
            "text/plain": [
              "'\\nThis is answer\\n'"
            ],
            "application/vnd.google.colaboratory.intrinsic+json": {
              "type": "string"
            }
          },
          "metadata": {},
          "execution_count": 26
        }
      ]
    },
    {
      "cell_type": "code",
      "source": [],
      "metadata": {
        "id": "30WPA6_lomrK"
      },
      "execution_count": null,
      "outputs": []
    },
    {
      "cell_type": "markdown",
      "source": [],
      "metadata": {
        "id": "WxMsoEa-aseT"
      }
    },
    {
      "cell_type": "code",
      "source": [],
      "metadata": {
        "id": "65ZsvM2_aqKg"
      },
      "execution_count": null,
      "outputs": []
    },
    {
      "cell_type": "code",
      "source": [],
      "metadata": {
        "id": "F9aJDtiBgwQZ"
      },
      "execution_count": null,
      "outputs": []
    }
  ]
}